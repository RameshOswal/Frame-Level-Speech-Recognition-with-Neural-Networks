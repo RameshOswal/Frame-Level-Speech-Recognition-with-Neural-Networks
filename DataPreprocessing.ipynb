{
 "cells": [
  {
   "cell_type": "code",
   "execution_count": 1,
   "metadata": {
    "collapsed": true
   },
   "outputs": [],
   "source": [
    "from  wsj_loader import *\n",
    "import os\n",
    "DATA_FOLDER_PATH = '../data'\n",
    "from tflearn.utils.d"
   ]
  },
  {
   "cell_type": "code",
   "execution_count": 2,
   "metadata": {
    "collapsed": true
   },
   "outputs": [],
   "source": [
    "wsj = WSJ()"
   ]
  },
  {
   "cell_type": "code",
   "execution_count": 3,
   "metadata": {
    "collapsed": true
   },
   "outputs": [],
   "source": [
    "train, test, dev = wsj.train, wsj.test, wsj.dev"
   ]
  },
  {
   "cell_type": "code",
   "execution_count": 4,
   "metadata": {},
   "outputs": [
    {
     "name": "stdout",
     "output_type": "stream",
     "text": [
      "(24590,) (268,) (1103,)\n",
      "(24590,) None (1103,)\n"
     ]
    }
   ],
   "source": [
    "print(train[0].shape, test[0].shape, dev[0].shape)\n",
    "print(train[1].shape, test[1], dev[1].shape)"
   ]
  },
  {
   "cell_type": "code",
   "execution_count": 5,
   "metadata": {
    "collapsed": true
   },
   "outputs": [],
   "source": [
    "def flatten_data_optimizer(data=(), padding=20, freq_band=40, filename=\"\", Limit=0):\n",
    "    curr_idx = 0\n",
    "    \n",
    "    IS_TEST_FILE = True if data[1] is None else False #File has only features no labels\n",
    "    total_frames = sum([i.shape[0] for i in data[0]])\n",
    "    num_padded_rows = total_frames + len(data[0])*2*padding # num_frames_utterance + 2*k*num_utterance\n",
    "    \n",
    "    X = np.zeros((num_padded_rows, freq_band))\n",
    "    Y = np.zeros((total_frames))\n",
    "    Lookup = np.zeros((total_frames))\n",
    "    padding_frame = np.zeros((padding,freq_band))\n",
    "    X_idx, Y_idx, LU_idx = 0, 0, 0 #not using LU_idx as Y_idx and LU_idx point to same  \n",
    "    for idx in range(data[0].shape[0] if Limit == 0 else  Limit):\n",
    "#         print(\"Working on Frame number \",idx)\n",
    "        \n",
    "        frame = data[0][idx]\n",
    "        \n",
    "        X_idx = X_idx + padding_frame.shape[0]\n",
    "        end_idx = X_idx+frame.shape[0]\n",
    "        X[ X_idx: end_idx ] = frame\n",
    "        \n",
    "        idxes_range = np.array(range(X_idx , end_idx ))\n",
    "        Lookup[Y_idx: Y_idx + frame.shape[0]] = idxes_range\n",
    "\n",
    "        X_idx =  X_idx + frame.shape[0] + padding_frame.shape[0]  \n",
    "        \n",
    "        \n",
    "        if IS_TEST_FILE == False:\n",
    "            labels = data[1][idx]\n",
    "            Y[Y_idx: Y_idx + frame.shape[0]] = labels\n",
    "        \n",
    "        Y_idx = Y_idx + frame.shape[0]\n",
    "        \n",
    "    np.save(os.path.join(DATA_FOLDER_PATH, 'flattened', filename + \"Flattened_X\"), arr=X)\n",
    "    print(\"*****************Saved X file **********************\")\n",
    "    print(\"\\tSize : \", X.shape)\n",
    "    np.save(os.path.join(DATA_FOLDER_PATH, 'flattened', filename + \"Flattened_Lookup\"), arr=Lookup)\n",
    "    print(\"*****************Saved Lookup file **********************\")\n",
    "    print(\"\\tSize : \", Lookup.shape)\n",
    "    if IS_TEST_FILE == False:\n",
    "        np.save(os.path.join(DATA_FOLDER_PATH, 'flattened', filename + \"Flattened_Y\"), arr=Y)\n",
    "        print(\"*****************Saved Labels file **********************\")\n",
    "        print(\"\\tSize : \", Y.shape)\n",
    "#     del X, Lookup, Y\n",
    "    return X, Lookup, Y"
   ]
  },
  {
   "cell_type": "code",
   "execution_count": 6,
   "metadata": {},
   "outputs": [
    {
     "name": "stdout",
     "output_type": "stream",
     "text": [
      "*****************Saved X file **********************\n",
      "\tSize :  (713414, 40)\n",
      "*****************Saved Lookup file **********************\n",
      "\tSize :  (669294,)\n",
      "*****************Saved Labels file **********************\n",
      "\tSize :  (669294,)\n",
      "Wall time: 1.72 s\n"
     ]
    }
   ],
   "source": [
    "%%time\n",
    "# del X, L, Y\n",
    "X, L, Y = flatten_data_optimizer(data=dev, filename='dev')"
   ]
  },
  {
   "cell_type": "code",
   "execution_count": 9,
   "metadata": {},
   "outputs": [
    {
     "name": "stdout",
     "output_type": "stream",
     "text": [
      "*****************Saved X file **********************\n",
      "\tSize :  (180376, 40)\n",
      "*****************Saved Lookup file **********************\n",
      "\tSize :  (169656,)\n",
      "Wall time: 378 ms\n"
     ]
    }
   ],
   "source": [
    "%%time\n",
    "del X, L, Y\n",
    "X, L, Y = flatten_data_optimizer(data=test, filename='test')"
   ]
  },
  {
   "cell_type": "code",
   "execution_count": 6,
   "metadata": {},
   "outputs": [
    {
     "name": "stdout",
     "output_type": "stream",
     "text": [
      "*****************Saved X file **********************\n",
      "\tSize :  (16432791, 40)\n",
      "*****************Saved Lookup file **********************\n",
      "\tSize :  (15449191,)\n",
      "*****************Saved Labels file **********************\n",
      "\tSize :  (15449191,)\n",
      "Wall time: 42.1 s\n"
     ]
    }
   ],
   "source": [
    "%%time\n",
    "# del X, L, Y\n",
    "X, L, Y = flatten_data_optimizer(data=train, filename='train')"
   ]
  },
  {
   "cell_type": "code",
   "execution_count": 7,
   "metadata": {
    "collapsed": true
   },
   "outputs": [],
   "source": [
    "def checkr(data, X, Y):\n",
    "    idx = 0; p =0\n",
    "    for i in range(data[0].shape[0]):\n",
    "        idx += 20\n",
    "        if np.all(X[idx]!=data[0][i][0]):\n",
    "            print(\"first entry not mathcing\")\n",
    "        if np.all(X[idx+data[0][i].shape[0]-1]!=data[0][i][-1]):\n",
    "            print('last entry not matching')\n",
    "        if np.all(X[idx+5]!=data[0][i][5]):\n",
    "            print(\"first entry not mathcing\")\n",
    "\n",
    "        if np.all(Y[p]!=data[1][i][0]):\n",
    "            print(\"first label not mathcing\")\n",
    "        if np.all(Y[p+data[0][i].shape[0]-1]!=data[1][i][-1]):\n",
    "            print('last lavel not matching')\n",
    "        if np.all(Y[p+5]!=data[1][i][5]):\n",
    "            print(\"first label not mathcing\")\n",
    "        p = p + data[0][i].shape[0] \n",
    "        idx += data[0][i].shape[0] \n",
    "        idx += 20"
   ]
  },
  {
   "cell_type": "code",
   "execution_count": 9,
   "metadata": {},
   "outputs": [
    {
     "ename": "KeyboardInterrupt",
     "evalue": "",
     "output_type": "error",
     "traceback": [
      "\u001b[1;31m---------------------------------------------------------------------------\u001b[0m",
      "\u001b[1;31mKeyboardInterrupt\u001b[0m                         Traceback (most recent call last)",
      "\u001b[1;32m<ipython-input-9-88c52c21101c>\u001b[0m in \u001b[0;36m<module>\u001b[1;34m()\u001b[0m\n\u001b[1;32m----> 1\u001b[1;33m \u001b[0mcheckr\u001b[0m\u001b[1;33m(\u001b[0m\u001b[0mtrain\u001b[0m\u001b[1;33m,\u001b[0m\u001b[0mX\u001b[0m\u001b[1;33m,\u001b[0m\u001b[0mY\u001b[0m\u001b[1;33m)\u001b[0m\u001b[1;33m\u001b[0m\u001b[0m\n\u001b[0m",
      "\u001b[1;32m<ipython-input-7-9dffae6425b4>\u001b[0m in \u001b[0;36mcheckr\u001b[1;34m(data, X, Y)\u001b[0m\n\u001b[0;32m      5\u001b[0m         \u001b[1;32mif\u001b[0m \u001b[0mnp\u001b[0m\u001b[1;33m.\u001b[0m\u001b[0mall\u001b[0m\u001b[1;33m(\u001b[0m\u001b[0mX\u001b[0m\u001b[1;33m[\u001b[0m\u001b[0midx\u001b[0m\u001b[1;33m]\u001b[0m\u001b[1;33m!=\u001b[0m\u001b[0mdata\u001b[0m\u001b[1;33m[\u001b[0m\u001b[1;36m0\u001b[0m\u001b[1;33m]\u001b[0m\u001b[1;33m[\u001b[0m\u001b[0mi\u001b[0m\u001b[1;33m]\u001b[0m\u001b[1;33m[\u001b[0m\u001b[1;36m0\u001b[0m\u001b[1;33m]\u001b[0m\u001b[1;33m)\u001b[0m\u001b[1;33m:\u001b[0m\u001b[1;33m\u001b[0m\u001b[0m\n\u001b[0;32m      6\u001b[0m             \u001b[0mprint\u001b[0m\u001b[1;33m(\u001b[0m\u001b[1;34m\"first entry not mathcing\"\u001b[0m\u001b[1;33m)\u001b[0m\u001b[1;33m\u001b[0m\u001b[0m\n\u001b[1;32m----> 7\u001b[1;33m         \u001b[1;32mif\u001b[0m \u001b[0mnp\u001b[0m\u001b[1;33m.\u001b[0m\u001b[0mall\u001b[0m\u001b[1;33m(\u001b[0m\u001b[0mX\u001b[0m\u001b[1;33m[\u001b[0m\u001b[0midx\u001b[0m\u001b[1;33m+\u001b[0m\u001b[0mdata\u001b[0m\u001b[1;33m[\u001b[0m\u001b[1;36m0\u001b[0m\u001b[1;33m]\u001b[0m\u001b[1;33m[\u001b[0m\u001b[0mi\u001b[0m\u001b[1;33m]\u001b[0m\u001b[1;33m.\u001b[0m\u001b[0mshape\u001b[0m\u001b[1;33m[\u001b[0m\u001b[1;36m0\u001b[0m\u001b[1;33m]\u001b[0m\u001b[1;33m-\u001b[0m\u001b[1;36m1\u001b[0m\u001b[1;33m]\u001b[0m\u001b[1;33m!=\u001b[0m\u001b[0mdata\u001b[0m\u001b[1;33m[\u001b[0m\u001b[1;36m0\u001b[0m\u001b[1;33m]\u001b[0m\u001b[1;33m[\u001b[0m\u001b[0mi\u001b[0m\u001b[1;33m]\u001b[0m\u001b[1;33m[\u001b[0m\u001b[1;33m-\u001b[0m\u001b[1;36m1\u001b[0m\u001b[1;33m]\u001b[0m\u001b[1;33m)\u001b[0m\u001b[1;33m:\u001b[0m\u001b[1;33m\u001b[0m\u001b[0m\n\u001b[0m\u001b[0;32m      8\u001b[0m             \u001b[0mprint\u001b[0m\u001b[1;33m(\u001b[0m\u001b[1;34m'last entry not matching'\u001b[0m\u001b[1;33m)\u001b[0m\u001b[1;33m\u001b[0m\u001b[0m\n\u001b[0;32m      9\u001b[0m         \u001b[1;32mif\u001b[0m \u001b[0mnp\u001b[0m\u001b[1;33m.\u001b[0m\u001b[0mall\u001b[0m\u001b[1;33m(\u001b[0m\u001b[0mX\u001b[0m\u001b[1;33m[\u001b[0m\u001b[0midx\u001b[0m\u001b[1;33m+\u001b[0m\u001b[1;36m5\u001b[0m\u001b[1;33m]\u001b[0m\u001b[1;33m!=\u001b[0m\u001b[0mdata\u001b[0m\u001b[1;33m[\u001b[0m\u001b[1;36m0\u001b[0m\u001b[1;33m]\u001b[0m\u001b[1;33m[\u001b[0m\u001b[0mi\u001b[0m\u001b[1;33m]\u001b[0m\u001b[1;33m[\u001b[0m\u001b[1;36m5\u001b[0m\u001b[1;33m]\u001b[0m\u001b[1;33m)\u001b[0m\u001b[1;33m:\u001b[0m\u001b[1;33m\u001b[0m\u001b[0m\n",
      "\u001b[1;31mKeyboardInterrupt\u001b[0m: "
     ]
    }
   ],
   "source": [
    "checkr(train,X,Y)"
   ]
  },
  {
   "cell_type": "code",
   "execution_count": 1,
   "metadata": {},
   "outputs": [
    {
     "ename": "NameError",
     "evalue": "name 'train' is not defined",
     "output_type": "error",
     "traceback": [
      "\u001b[1;31m---------------------------------------------------------------------------\u001b[0m",
      "\u001b[1;31mNameError\u001b[0m                                 Traceback (most recent call last)",
      "\u001b[1;32m<ipython-input-1-e65cb62f07a5>\u001b[0m in \u001b[0;36m<module>\u001b[1;34m()\u001b[0m\n\u001b[1;32m----> 1\u001b[1;33m \u001b[0mtrain\u001b[0m\u001b[1;33m[\u001b[0m\u001b[1;36m0\u001b[0m\u001b[1;33m]\u001b[0m\u001b[1;33m[\u001b[0m\u001b[1;36m0\u001b[0m\u001b[1;33m]\u001b[0m\u001b[1;33m.\u001b[0m\u001b[0mshape\u001b[0m\u001b[1;33m\u001b[0m\u001b[0m\n\u001b[0m",
      "\u001b[1;31mNameError\u001b[0m: name 'train' is not defined"
     ]
    }
   ],
   "source": []
  },
  {
   "cell_type": "code",
   "execution_count": null,
   "metadata": {
    "collapsed": true
   },
   "outputs": [],
   "source": []
  }
 ],
 "metadata": {
  "kernelspec": {
   "display_name": "Python 3",
   "language": "python",
   "name": "python3"
  },
  "language_info": {
   "codemirror_mode": {
    "name": "ipython",
    "version": 3
   },
   "file_extension": ".py",
   "mimetype": "text/x-python",
   "name": "python",
   "nbconvert_exporter": "python",
   "pygments_lexer": "ipython3",
   "version": "3.6.3"
  }
 },
 "nbformat": 4,
 "nbformat_minor": 2
}
