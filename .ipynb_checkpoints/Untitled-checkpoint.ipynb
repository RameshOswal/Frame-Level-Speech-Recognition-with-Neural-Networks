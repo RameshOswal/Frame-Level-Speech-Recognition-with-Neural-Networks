{
 "cells": [
  {
   "cell_type": "code",
   "execution_count": 9,
   "metadata": {},
   "outputs": [],
   "source": [
    "import numpy as np\n",
    "import os\n",
    "FLATTENED_DATA_FOLDER_PATH = '../data/flattened'\n",
    "class Data:\n",
    "    def __init__(self, data_folder_path=FLATTENED_DATA_FOLDER_PATH, batch_size=1000000, n_context=0, num_context_frame=1):\n",
    "        self.batch_size = batch_size\n",
    "        self.n_context = n_context\n",
    "        self.path = data_folder_path\n",
    "        self.curr_batch_idx = 0\n",
    "        self.num_context_frame = num_context_frame \n",
    "    def load_train_batchwise(self):\n",
    "        TRAIN = 'train'\n",
    "        self.trainLookup = np.load(os.path.join(FLATTENED_DATA_FOLDER_PATH, TRAIN + 'FLATTENED_Lookup.npy')).astype(int)\n",
    "        self.trainXmem_map = np.load(os.path.join(FLATTENED_DATA_FOLDER_PATH, TRAIN + 'FLATTENED_X.npy'),mmap_mode=\"r\")\n",
    "        self.trainYmem_map = np.load(os.path.join(FLATTENED_DATA_FOLDER_PATH, TRAIN + 'FLATTENED_Y.npy'),mmap_mode=\"r\")\n",
    "        \n",
    "        self.total_num_batch = int(self.trainLookup.shape[0]/self.batch_size)+1\n",
    "        Lookup_indexes = np.array(range(self.trainLookup.shape[0]))\n",
    "        np.random.shuffle(Lookup_indexes)\n",
    "        \n",
    "        for curr_batch in range(self.total_num_batch):\n",
    "            print(\"***Current Batch:\", curr_batch)\n",
    "            start_idx = curr_batch * self.batch_size\n",
    "            end_idx = start_idx + self.batch_size\n",
    "            \n",
    "            batch_indx = self.trainLookup[Lookup_indexes[start_idx: end_idx]]\n",
    "            print(batch_indx)\n",
    "            batch_matrix = np.zeros((self.num_context_frame*2+1, batch_indx.shape[0]))\n",
    "            batch_matrix[self.num_context_frame] = batch_indx\n",
    "            for idx in range(self.num_context_frame):\n",
    "                batch_matrix[self.num_context_frame - idx - 1] = batch_matrix[self.num_context_frame - idx ] -1\n",
    "                batch_matrix[self.num_context_frame + idx + 1 ] = batch_matrix[self.num_context_frame + idx] -1\n",
    "            print(batch_matrix)\n",
    "            X, Y = self.trainXmem_map[batch_indx], self.trainYmem_map[Lookup_indexes[start_idx: end_idx]]\n",
    "            yield np.array(X), np.array(Y)\n",
    "    def load_dev(self):\n",
    "        self.devLookup = np.load(os.path.join(FLATTENED_DATA_FOLDER_PATH, 'dev' + 'FLATTENED_Lookup.npy')).astype(int)\n",
    "        self.devXmem_map = np.load(os.path.join(FLATTENED_DATA_FOLDER_PATH, 'dev' + 'FLATTENED_X.npy'))\n",
    "        self.devYmem_map = np.load(os.path.join(FLATTENED_DATA_FOLDER_PATH, 'dev' + 'FLATTENED_Y.npy'))\n",
    "        \n",
    "        return self.devXmem_map[self.devLookup], self.devYmem_map[:]\n",
    "    def load_test(self):\n",
    "        self.devLookup = np.load(os.path.join(FLATTENED_DATA_FOLDER_PATH, 'test' + 'FLATTENED_Lookup.npy')).astype(int)\n",
    "        self.devXmem_map = np.load(os.path.join(FLATTENED_DATA_FOLDER_PATH, 'test' + 'FLATTENED_X.npy'))\n",
    "        \n",
    "        return self.devXmem_map[self.devLookup]"
   ]
  },
  {
   "cell_type": "code",
   "execution_count": 10,
   "metadata": {},
   "outputs": [
    {
     "name": "stdout",
     "output_type": "stream",
     "text": [
      "***Current Batch: 0\n",
      "[12468320 16342492  1999410  7951673 13524689 12497521 14935032 16173278\n",
      "  9721458 14873179]\n",
      "[[12468319. 16342491.  1999409.  7951672. 13524688. 12497520. 14935031.\n",
      "  16173277.  9721457. 14873178.]\n",
      " [12468320. 16342492.  1999410.  7951673. 13524689. 12497521. 14935032.\n",
      "  16173278.  9721458. 14873179.]\n",
      " [       0.        0.        0.        0.        0.        0.        0.\n",
      "         0.        0.        0.]]\n"
     ]
    }
   ],
   "source": [
    "d = Data(batch_size=10)\n",
    "for x, y in d.load_train_batchwise():\n",
    "    break"
   ]
  },
  {
   "cell_type": "code",
   "execution_count": null,
   "metadata": {
    "collapsed": true
   },
   "outputs": [],
   "source": []
  }
 ],
 "metadata": {
  "kernelspec": {
   "display_name": "Python 3",
   "language": "python",
   "name": "python3"
  },
  "language_info": {
   "codemirror_mode": {
    "name": "ipython",
    "version": 3
   },
   "file_extension": ".py",
   "mimetype": "text/x-python",
   "name": "python",
   "nbconvert_exporter": "python",
   "pygments_lexer": "ipython3",
   "version": "3.6.3"
  }
 },
 "nbformat": 4,
 "nbformat_minor": 2
}
